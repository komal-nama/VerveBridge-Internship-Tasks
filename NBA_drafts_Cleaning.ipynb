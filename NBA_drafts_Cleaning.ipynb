{
 "cells": [
  {
   "cell_type": "code",
   "execution_count": 1,
   "id": "9b509880-c39d-4c49-b93d-ee3900164626",
   "metadata": {},
   "outputs": [],
   "source": [
    "import pandas as pd\n",
    "import seaborn as sns\n",
    "import matplotlib.pyplot as plt\n",
    "import numpy as np\n",
    "from sklearn.impute import SimpleImputer"
   ]
  },
  {
   "cell_type": "code",
   "execution_count": 2,
   "id": "1bd07a3a-03be-489c-946c-76b1a52637ef",
   "metadata": {},
   "outputs": [
    {
     "data": {
      "text/html": [
       "<div>\n",
       "<style scoped>\n",
       "    .dataframe tbody tr th:only-of-type {\n",
       "        vertical-align: middle;\n",
       "    }\n",
       "\n",
       "    .dataframe tbody tr th {\n",
       "        vertical-align: top;\n",
       "    }\n",
       "\n",
       "    .dataframe thead th {\n",
       "        text-align: right;\n",
       "    }\n",
       "</style>\n",
       "<table border=\"1\" class=\"dataframe\">\n",
       "  <thead>\n",
       "    <tr style=\"text-align: right;\">\n",
       "      <th></th>\n",
       "      <th>Col_1</th>\n",
       "      <th>Player</th>\n",
       "      <th>Year</th>\n",
       "      <th>Draft pick</th>\n",
       "      <th>Height (No Shoes)</th>\n",
       "      <th>Height (With Shoes)</th>\n",
       "      <th>Wingspan</th>\n",
       "      <th>Standing reach</th>\n",
       "      <th>Vertical (Max)</th>\n",
       "      <th>Vertical (Max Reach)</th>\n",
       "      <th>Vertical (No Step)</th>\n",
       "      <th>Vertical (No Step Reach)</th>\n",
       "      <th>Weight</th>\n",
       "      <th>Body Fat</th>\n",
       "      <th>Hand (Length)</th>\n",
       "      <th>Hand (Width)</th>\n",
       "      <th>Bench</th>\n",
       "      <th>Agility</th>\n",
       "      <th>Sprint</th>\n",
       "    </tr>\n",
       "  </thead>\n",
       "  <tbody>\n",
       "    <tr>\n",
       "      <th>0</th>\n",
       "      <td>0</td>\n",
       "      <td>Andre Drummond</td>\n",
       "      <td>2012</td>\n",
       "      <td>9.0</td>\n",
       "      <td>81.75</td>\n",
       "      <td>83.75</td>\n",
       "      <td>90.25</td>\n",
       "      <td>109.5</td>\n",
       "      <td>33.5</td>\n",
       "      <td>143.0</td>\n",
       "      <td>31.5</td>\n",
       "      <td>141.0</td>\n",
       "      <td>279.0</td>\n",
       "      <td>7.5</td>\n",
       "      <td>9.50</td>\n",
       "      <td>9.50</td>\n",
       "      <td>10.0</td>\n",
       "      <td>10.83</td>\n",
       "      <td>3.39</td>\n",
       "    </tr>\n",
       "    <tr>\n",
       "      <th>1</th>\n",
       "      <td>1</td>\n",
       "      <td>Andrew Nicholson</td>\n",
       "      <td>2012</td>\n",
       "      <td>19.0</td>\n",
       "      <td>80.50</td>\n",
       "      <td>81.50</td>\n",
       "      <td>88.00</td>\n",
       "      <td>107.0</td>\n",
       "      <td>30.5</td>\n",
       "      <td>137.5</td>\n",
       "      <td>28.5</td>\n",
       "      <td>135.5</td>\n",
       "      <td>234.0</td>\n",
       "      <td>7.6</td>\n",
       "      <td>10.00</td>\n",
       "      <td>10.75</td>\n",
       "      <td>10.0</td>\n",
       "      <td>11.89</td>\n",
       "      <td>3.67</td>\n",
       "    </tr>\n",
       "    <tr>\n",
       "      <th>2</th>\n",
       "      <td>2</td>\n",
       "      <td>Anthony Davis</td>\n",
       "      <td>2012</td>\n",
       "      <td>1.0</td>\n",
       "      <td>81.25</td>\n",
       "      <td>82.50</td>\n",
       "      <td>89.50</td>\n",
       "      <td>108.0</td>\n",
       "      <td>NaN</td>\n",
       "      <td>NaN</td>\n",
       "      <td>NaN</td>\n",
       "      <td>NaN</td>\n",
       "      <td>222.0</td>\n",
       "      <td>7.9</td>\n",
       "      <td>9.00</td>\n",
       "      <td>8.50</td>\n",
       "      <td>NaN</td>\n",
       "      <td>NaN</td>\n",
       "      <td>NaN</td>\n",
       "    </tr>\n",
       "    <tr>\n",
       "      <th>3</th>\n",
       "      <td>3</td>\n",
       "      <td>Arnett Moultrie</td>\n",
       "      <td>2012</td>\n",
       "      <td>27.0</td>\n",
       "      <td>81.50</td>\n",
       "      <td>82.75</td>\n",
       "      <td>86.25</td>\n",
       "      <td>106.5</td>\n",
       "      <td>37.5</td>\n",
       "      <td>144.0</td>\n",
       "      <td>33.5</td>\n",
       "      <td>140.0</td>\n",
       "      <td>233.0</td>\n",
       "      <td>7.7</td>\n",
       "      <td>9.25</td>\n",
       "      <td>9.25</td>\n",
       "      <td>10.0</td>\n",
       "      <td>11.32</td>\n",
       "      <td>3.22</td>\n",
       "    </tr>\n",
       "    <tr>\n",
       "      <th>4</th>\n",
       "      <td>4</td>\n",
       "      <td>Austin Rivers</td>\n",
       "      <td>2012</td>\n",
       "      <td>10.0</td>\n",
       "      <td>75.50</td>\n",
       "      <td>77.00</td>\n",
       "      <td>79.25</td>\n",
       "      <td>96.5</td>\n",
       "      <td>37.5</td>\n",
       "      <td>134.0</td>\n",
       "      <td>32.5</td>\n",
       "      <td>129.0</td>\n",
       "      <td>203.0</td>\n",
       "      <td>6.2</td>\n",
       "      <td>8.50</td>\n",
       "      <td>10.00</td>\n",
       "      <td>1.0</td>\n",
       "      <td>11.54</td>\n",
       "      <td>3.32</td>\n",
       "    </tr>\n",
       "  </tbody>\n",
       "</table>\n",
       "</div>"
      ],
      "text/plain": [
       "   Col_1            Player  Year  Draft pick  Height (No Shoes)  \\\n",
       "0      0    Andre Drummond  2012         9.0              81.75   \n",
       "1      1  Andrew Nicholson  2012        19.0              80.50   \n",
       "2      2     Anthony Davis  2012         1.0              81.25   \n",
       "3      3   Arnett Moultrie  2012        27.0              81.50   \n",
       "4      4     Austin Rivers  2012        10.0              75.50   \n",
       "\n",
       "   Height (With Shoes)  Wingspan  Standing reach  Vertical (Max)  \\\n",
       "0                83.75     90.25           109.5            33.5   \n",
       "1                81.50     88.00           107.0            30.5   \n",
       "2                82.50     89.50           108.0             NaN   \n",
       "3                82.75     86.25           106.5            37.5   \n",
       "4                77.00     79.25            96.5            37.5   \n",
       "\n",
       "   Vertical (Max Reach)  Vertical (No Step)  Vertical (No Step Reach)  Weight  \\\n",
       "0                 143.0                31.5                     141.0   279.0   \n",
       "1                 137.5                28.5                     135.5   234.0   \n",
       "2                   NaN                 NaN                       NaN   222.0   \n",
       "3                 144.0                33.5                     140.0   233.0   \n",
       "4                 134.0                32.5                     129.0   203.0   \n",
       "\n",
       "   Body Fat  Hand (Length)  Hand (Width)  Bench  Agility  Sprint  \n",
       "0       7.5           9.50          9.50   10.0    10.83    3.39  \n",
       "1       7.6          10.00         10.75   10.0    11.89    3.67  \n",
       "2       7.9           9.00          8.50    NaN      NaN     NaN  \n",
       "3       7.7           9.25          9.25   10.0    11.32    3.22  \n",
       "4       6.2           8.50         10.00    1.0    11.54    3.32  "
      ]
     },
     "execution_count": 2,
     "metadata": {},
     "output_type": "execute_result"
    }
   ],
   "source": [
    "df_set = pd.read_csv('C:/Users/Dell/OneDrive/Desktop/Komal/Internships/VerveBridge/NBA Draft Dataset All Years Combine.csv')\n",
    "df_set.head()"
   ]
  },
  {
   "cell_type": "code",
   "execution_count": 3,
   "id": "1baf7fe0-0da4-46c0-99ba-30d681759b94",
   "metadata": {},
   "outputs": [
    {
     "data": {
      "text/plain": [
       "(306, 19)"
      ]
     },
     "execution_count": 3,
     "metadata": {},
     "output_type": "execute_result"
    }
   ],
   "source": [
    "df_set.shape"
   ]
  },
  {
   "cell_type": "markdown",
   "id": "223e7d9f-0643-4fea-a839-ce0973d48dfe",
   "metadata": {},
   "source": [
    "DATA CLEANING WITH ANALYZING FEATURES"
   ]
  },
  {
   "cell_type": "code",
   "execution_count": 4,
   "id": "68c79b87-cddb-408a-955d-ca0f3221a4e0",
   "metadata": {},
   "outputs": [
    {
     "name": "stdout",
     "output_type": "stream",
     "text": [
      "<class 'pandas.core.frame.DataFrame'>\n",
      "RangeIndex: 306 entries, 0 to 305\n",
      "Data columns (total 19 columns):\n",
      " #   Column                    Non-Null Count  Dtype  \n",
      "---  ------                    --------------  -----  \n",
      " 0   Col_1                     306 non-null    int64  \n",
      " 1   Player                    306 non-null    object \n",
      " 2   Year                      306 non-null    int64  \n",
      " 3   Draft pick                215 non-null    float64\n",
      " 4   Height (No Shoes)         306 non-null    float64\n",
      " 5   Height (With Shoes)       306 non-null    float64\n",
      " 6   Wingspan                  306 non-null    float64\n",
      " 7   Standing reach            306 non-null    float64\n",
      " 8   Vertical (Max)            257 non-null    float64\n",
      " 9   Vertical (Max Reach)      257 non-null    float64\n",
      " 10  Vertical (No Step)        258 non-null    float64\n",
      " 11  Vertical (No Step Reach)  258 non-null    float64\n",
      " 12  Weight                    305 non-null    float64\n",
      " 13  Body Fat                  305 non-null    float64\n",
      " 14  Hand (Length)             306 non-null    float64\n",
      " 15  Hand (Width)              306 non-null    float64\n",
      " 16  Bench                     149 non-null    float64\n",
      " 17  Agility                   254 non-null    float64\n",
      " 18  Sprint                    253 non-null    float64\n",
      "dtypes: float64(16), int64(2), object(1)\n",
      "memory usage: 45.5+ KB\n"
     ]
    }
   ],
   "source": [
    "df_set.info()"
   ]
  },
  {
   "cell_type": "code",
   "execution_count": 5,
   "id": "184b71be-ed63-4419-a0b7-bd048ef5f6aa",
   "metadata": {},
   "outputs": [
    {
     "data": {
      "text/plain": [
       "Col_1                         0\n",
       "Player                        0\n",
       "Year                          0\n",
       "Draft pick                   91\n",
       "Height (No Shoes)             0\n",
       "Height (With Shoes)           0\n",
       "Wingspan                      0\n",
       "Standing reach                0\n",
       "Vertical (Max)               49\n",
       "Vertical (Max Reach)         49\n",
       "Vertical (No Step)           48\n",
       "Vertical (No Step Reach)     48\n",
       "Weight                        1\n",
       "Body Fat                      1\n",
       "Hand (Length)                 0\n",
       "Hand (Width)                  0\n",
       "Bench                       157\n",
       "Agility                      52\n",
       "Sprint                       53\n",
       "dtype: int64"
      ]
     },
     "execution_count": 5,
     "metadata": {},
     "output_type": "execute_result"
    }
   ],
   "source": [
    "df_set.isnull().sum()"
   ]
  },
  {
   "cell_type": "code",
   "execution_count": 6,
   "id": "426c07b5-d6d3-45cd-b3e5-1e2df1257e00",
   "metadata": {},
   "outputs": [
    {
     "data": {
      "text/plain": [
       "array([ 9., 19.,  1., 27., 10., 33.,  3.,  6., 55., 46.,  4., 42., 35.,\n",
       "       nan, 22., 30.,  7., 34., 24., 21., 31., 12., 14., 23., 13., 47.,\n",
       "       39., 44., 51., 49., 59., 29., 11.,  2., 43., 26., 15., 36., 28.,\n",
       "       37., 38., 58., 16., 18.,  8.,  5., 32., 25., 17., 41., 40., 53.,\n",
       "       50., 52., 56., 48., 20., 60., 45., 54.])"
      ]
     },
     "execution_count": 6,
     "metadata": {},
     "output_type": "execute_result"
    }
   ],
   "source": [
    "df_set['Draft pick'].unique()"
   ]
  },
  {
   "cell_type": "code",
   "execution_count": 7,
   "id": "fe385f0e-c23a-40e7-b739-c27701387e29",
   "metadata": {},
   "outputs": [
    {
     "data": {
      "text/plain": [
       "count    215.000000\n",
       "mean      29.000000\n",
       "std       16.127413\n",
       "min        1.000000\n",
       "25%       15.000000\n",
       "50%       29.000000\n",
       "75%       42.000000\n",
       "max       60.000000\n",
       "Name: Draft pick, dtype: float64"
      ]
     },
     "execution_count": 7,
     "metadata": {},
     "output_type": "execute_result"
    }
   ],
   "source": [
    "df_set['Draft pick'].describe(include = 'all')"
   ]
  },
  {
   "cell_type": "code",
   "execution_count": 8,
   "id": "a265e05e-7897-4ffc-94c2-61097bf43bf4",
   "metadata": {},
   "outputs": [
    {
     "data": {
      "text/plain": [
       "Draft pick\n",
       "9.0     5\n",
       "33.0    5\n",
       "10.0    5\n",
       "6.0     5\n",
       "34.0    5\n",
       "22.0    5\n",
       "42.0    5\n",
       "14.0    5\n",
       "37.0    5\n",
       "18.0    5\n",
       "49.0    5\n",
       "36.0    5\n",
       "17.0    5\n",
       "8.0     5\n",
       "13.0    4\n",
       "44.0    4\n",
       "24.0    4\n",
       "12.0    4\n",
       "58.0    4\n",
       "51.0    4\n",
       "28.0    4\n",
       "23.0    4\n",
       "30.0    4\n",
       "21.0    4\n",
       "19.0    4\n",
       "46.0    4\n",
       "27.0    4\n",
       "25.0    4\n",
       "38.0    4\n",
       "56.0    4\n",
       "40.0    4\n",
       "43.0    4\n",
       "41.0    4\n",
       "11.0    4\n",
       "45.0    3\n",
       "55.0    3\n",
       "39.0    3\n",
       "31.0    3\n",
       "47.0    3\n",
       "35.0    3\n",
       "3.0     3\n",
       "4.0     3\n",
       "7.0     3\n",
       "48.0    3\n",
       "15.0    3\n",
       "2.0     3\n",
       "26.0    3\n",
       "29.0    3\n",
       "59.0    3\n",
       "32.0    3\n",
       "5.0     3\n",
       "20.0    3\n",
       "50.0    3\n",
       "52.0    2\n",
       "16.0    2\n",
       "1.0     1\n",
       "53.0    1\n",
       "60.0    1\n",
       "54.0    1\n",
       "Name: count, dtype: int64"
      ]
     },
     "execution_count": 8,
     "metadata": {},
     "output_type": "execute_result"
    }
   ],
   "source": [
    "df_set['Draft pick'].value_counts()"
   ]
  },
  {
   "cell_type": "code",
   "execution_count": 9,
   "id": "99b0fec8-7d9e-4e4e-bcb8-9792583550be",
   "metadata": {},
   "outputs": [],
   "source": [
    "imputer_mean = SimpleImputer(missing_values = np.nan, strategy = 'mean')\n",
    "imputer_median = SimpleImputer(missing_values = np.nan, strategy = 'median')\n",
    "imputer_mode = SimpleImputer(missing_values = np.nan, strategy = 'most_frequent')"
   ]
  },
  {
   "cell_type": "code",
   "execution_count": 10,
   "id": "a024a6f1-a50a-4262-98a4-7564f157f177",
   "metadata": {},
   "outputs": [],
   "source": [
    " #applying mean\n",
    "df_set['Draft pick'] = imputer_mean.fit_transform(np.array(df_set['Draft pick']).reshape(-1,1))"
   ]
  },
  {
   "cell_type": "code",
   "execution_count": 11,
   "id": "eb55b46d-b2e3-4fc1-8ae4-2cde07129728",
   "metadata": {},
   "outputs": [
    {
     "data": {
      "text/plain": [
       "np.False_"
      ]
     },
     "execution_count": 11,
     "metadata": {},
     "output_type": "execute_result"
    }
   ],
   "source": [
    "df_set['Draft pick'].isnull().sum().any()"
   ]
  },
  {
   "cell_type": "code",
   "execution_count": 12,
   "id": "3f1d2450-e987-4322-8221-aea60c482b83",
   "metadata": {},
   "outputs": [],
   "source": [
    "df_set['Draft pick'] = df_set['Draft pick'].astype(int)"
   ]
  },
  {
   "cell_type": "markdown",
   "id": "4b4edb45-243f-4038-a82c-326f4671d874",
   "metadata": {},
   "source": [
    "Vertical (max) Column"
   ]
  },
  {
   "cell_type": "code",
   "execution_count": 13,
   "id": "fafd5394-1305-4c8f-942c-6a21b094708a",
   "metadata": {},
   "outputs": [
    {
     "data": {
      "text/plain": [
       "array([33.5, 30.5,  nan, 37.5, 32.5, 39. , 39.5, 41.5, 37. , 33. , 34. ,\n",
       "       31. , 29.5, 36.5, 34.5, 40. , 38. , 30. , 35. , 31.5, 40.5, 35.5,\n",
       "       38.5, 36. , 42. , 32. , 29. , 41. , 44. , 43.5, 28.5, 25. , 43. ,\n",
       "       28. ])"
      ]
     },
     "execution_count": 13,
     "metadata": {},
     "output_type": "execute_result"
    }
   ],
   "source": [
    "df_set[\"Vertical (Max)\"].unique()"
   ]
  },
  {
   "cell_type": "code",
   "execution_count": 14,
   "id": "c8204739-1ab6-45f5-a4cd-69cecab46bde",
   "metadata": {},
   "outputs": [
    {
     "data": {
      "text/plain": [
       "numpy.float64"
      ]
     },
     "execution_count": 14,
     "metadata": {},
     "output_type": "execute_result"
    }
   ],
   "source": [
    "type(df_set[\"Vertical (Max)\"][0])"
   ]
  },
  {
   "cell_type": "code",
   "execution_count": 15,
   "id": "6301f5f7-8067-4c82-913b-db819846d554",
   "metadata": {},
   "outputs": [
    {
     "data": {
      "text/plain": [
       "count    257.000000\n",
       "mean      35.638132\n",
       "std        3.595704\n",
       "min       25.000000\n",
       "25%       33.000000\n",
       "50%       35.500000\n",
       "75%       38.000000\n",
       "max       44.000000\n",
       "Name: Vertical (Max), dtype: float64"
      ]
     },
     "execution_count": 15,
     "metadata": {},
     "output_type": "execute_result"
    }
   ],
   "source": [
    "df_set[\"Vertical (Max)\"].describe(include = \"all\")"
   ]
  },
  {
   "cell_type": "code",
   "execution_count": 16,
   "id": "9de5bed6-ee8d-4533-a6af-d91538022951",
   "metadata": {},
   "outputs": [
    {
     "data": {
      "text/plain": [
       "Vertical (Max)\n",
       "35.5    22\n",
       "36.5    16\n",
       "34.5    15\n",
       "37.5    15\n",
       "36.0    13\n",
       "34.0    12\n",
       "38.0    12\n",
       "37.0    12\n",
       "32.5    11\n",
       "33.5    10\n",
       "39.5    10\n",
       "31.0    10\n",
       "40.5     9\n",
       "35.0     9\n",
       "32.0     8\n",
       "38.5     8\n",
       "31.5     8\n",
       "29.5     7\n",
       "33.0     6\n",
       "41.5     6\n",
       "40.0     6\n",
       "29.0     4\n",
       "30.0     3\n",
       "39.0     3\n",
       "30.5     3\n",
       "28.5     3\n",
       "41.0     3\n",
       "44.0     3\n",
       "43.5     3\n",
       "43.0     3\n",
       "42.0     2\n",
       "25.0     1\n",
       "28.0     1\n",
       "Name: count, dtype: int64"
      ]
     },
     "execution_count": 16,
     "metadata": {},
     "output_type": "execute_result"
    }
   ],
   "source": [
    "df_set[\"Vertical (Max)\"].value_counts()"
   ]
  },
  {
   "cell_type": "code",
   "execution_count": 17,
   "id": "587ba438-049c-4158-adfa-e13b1e2280ae",
   "metadata": {},
   "outputs": [],
   "source": [
    "df_set[\"Vertical (Max)\"] = imputer_mode.fit_transform(np.array(df_set[\"Vertical (Max)\"]).reshape(-1,1))"
   ]
  },
  {
   "cell_type": "code",
   "execution_count": 18,
   "id": "f726e037-db25-4766-9373-9d0517138c41",
   "metadata": {},
   "outputs": [
    {
     "data": {
      "text/plain": [
       "np.False_"
      ]
     },
     "execution_count": 18,
     "metadata": {},
     "output_type": "execute_result"
    }
   ],
   "source": [
    "df_set[\"Vertical (Max)\"].isnull().any()"
   ]
  },
  {
   "cell_type": "markdown",
   "id": "52ac73e2-0c06-4ba9-b838-e20f1c73667a",
   "metadata": {},
   "source": [
    "Vertical (Max reach) Column"
   ]
  },
  {
   "cell_type": "code",
   "execution_count": 19,
   "id": "f9fc1d39-bf5f-488e-b5ec-6fbffa72ddfe",
   "metadata": {},
   "outputs": [
    {
     "data": {
      "text/plain": [
       "array([143. , 137.5,   nan, 144. , 134. , 141. , 139. , 135. , 138. ,\n",
       "       132. , 141.5, 125.5, 136.5, 140. , 142. , 134.5, 129. , 133. ,\n",
       "       135.5, 137. , 140.5, 146. , 139.5, 138.5, 145.5, 143.5, 127. ,\n",
       "       129.5, 142.5, 145. , 136. , 144.5, 131.5, 130.5, 133.5, 126.5,\n",
       "       128.5, 132.5, 127.5, 128. , 147. ])"
      ]
     },
     "execution_count": 19,
     "metadata": {},
     "output_type": "execute_result"
    }
   ],
   "source": [
    "df_set[\"Vertical (Max Reach)\"].unique()"
   ]
  },
  {
   "cell_type": "code",
   "execution_count": 20,
   "id": "4026881f-be05-4ca6-9d45-ccaffd7bb16e",
   "metadata": {},
   "outputs": [
    {
     "data": {
      "text/plain": [
       "count    257.000000\n",
       "mean     138.093385\n",
       "std        4.220605\n",
       "min      125.500000\n",
       "25%      135.000000\n",
       "50%      138.500000\n",
       "75%      141.500000\n",
       "max      147.000000\n",
       "Name: Vertical (Max Reach), dtype: float64"
      ]
     },
     "execution_count": 20,
     "metadata": {},
     "output_type": "execute_result"
    }
   ],
   "source": [
    "df_set[\"Vertical (Max Reach)\"].describe()"
   ]
  },
  {
   "cell_type": "code",
   "execution_count": 21,
   "id": "91db41ba-3c16-497d-990b-e55a97966091",
   "metadata": {},
   "outputs": [
    {
     "data": {
      "text/plain": [
       "Vertical (Max Reach)\n",
       "138.0    20\n",
       "139.5    14\n",
       "141.5    13\n",
       "134.0    12\n",
       "136.5    12\n",
       "142.0    12\n",
       "141.0    12\n",
       "138.5    12\n",
       "137.5    11\n",
       "139.0    11\n",
       "144.0    11\n",
       "135.0     9\n",
       "140.5     9\n",
       "134.5     8\n",
       "140.0     8\n",
       "137.0     7\n",
       "143.0     6\n",
       "136.0     6\n",
       "142.5     6\n",
       "143.5     6\n",
       "133.5     6\n",
       "133.0     5\n",
       "132.0     5\n",
       "135.5     5\n",
       "144.5     4\n",
       "145.0     3\n",
       "132.5     3\n",
       "145.5     2\n",
       "131.5     2\n",
       "129.5     2\n",
       "129.0     2\n",
       "127.0     2\n",
       "128.0     2\n",
       "130.5     2\n",
       "126.5     2\n",
       "125.5     1\n",
       "146.0     1\n",
       "128.5     1\n",
       "127.5     1\n",
       "147.0     1\n",
       "Name: count, dtype: int64"
      ]
     },
     "execution_count": 21,
     "metadata": {},
     "output_type": "execute_result"
    }
   ],
   "source": [
    "df_set[\"Vertical (Max Reach)\"].value_counts()"
   ]
  },
  {
   "cell_type": "code",
   "execution_count": 22,
   "id": "1712807a-4ba4-4ffb-a299-62e9634728f9",
   "metadata": {},
   "outputs": [],
   "source": [
    "#using mean\n",
    "df_set[\"Vertical (Max Reach)\"] = imputer_mean.fit_transform(np.array(df_set[\"Vertical (Max Reach)\"]).reshape(-1,1))"
   ]
  },
  {
   "cell_type": "code",
   "execution_count": 23,
   "id": "00749f70-327f-47f4-8d8b-80d34eec34aa",
   "metadata": {},
   "outputs": [
    {
     "data": {
      "text/plain": [
       "np.False_"
      ]
     },
     "execution_count": 23,
     "metadata": {},
     "output_type": "execute_result"
    }
   ],
   "source": [
    "df_set[\"Vertical (Max Reach)\"].isna().any()"
   ]
  },
  {
   "cell_type": "markdown",
   "id": "10e1d809-ca8d-497f-8b3a-718d01575059",
   "metadata": {},
   "source": [
    "Vertical (No Step Reach) Column"
   ]
  },
  {
   "cell_type": "code",
   "execution_count": 24,
   "id": "a657b449-bdc7-4b09-84ec-efdf8b3d97f8",
   "metadata": {},
   "outputs": [
    {
     "data": {
      "text/plain": [
       "array([141. , 135.5,   nan, 140. , 129. , 138.5, 133. , 130. , 129.5,\n",
       "       134. , 127.5, 132.5, 139.5, 142. , 134.5, 131. , 122. , 136. ,\n",
       "       130.5, 135. , 133.5, 137.5, 128.5, 125.5, 127. , 138. , 128. ,\n",
       "       136.5, 121.5, 131.5, 122.5, 132. , 137. , 141.5, 140.5, 126.5,\n",
       "       125. , 124. , 123.5, 139. , 126. , 124.5, 121. , 143. , 119. ,\n",
       "       142.5, 144. ])"
      ]
     },
     "execution_count": 24,
     "metadata": {},
     "output_type": "execute_result"
    }
   ],
   "source": [
    "df_set[\"Vertical (No Step Reach)\"].unique()"
   ]
  },
  {
   "cell_type": "code",
   "execution_count": 25,
   "id": "b15ac381-7ddc-4532-b18b-1cf8e7f09cfe",
   "metadata": {},
   "outputs": [
    {
     "data": {
      "text/plain": [
       "Vertical (No Step Reach)\n",
       "131.0    15\n",
       "133.0    14\n",
       "134.5    14\n",
       "132.5    12\n",
       "136.0    10\n",
       "129.0    10\n",
       "131.5    10\n",
       "135.0    10\n",
       "132.0    10\n",
       "138.0     9\n",
       "129.5     9\n",
       "133.5     8\n",
       "128.0     8\n",
       "135.5     8\n",
       "137.0     8\n",
       "134.0     7\n",
       "136.5     6\n",
       "127.0     6\n",
       "138.5     6\n",
       "140.0     6\n",
       "127.5     6\n",
       "130.0     6\n",
       "128.5     6\n",
       "137.5     6\n",
       "130.5     5\n",
       "126.5     5\n",
       "139.5     4\n",
       "139.0     4\n",
       "124.5     3\n",
       "123.5     3\n",
       "125.5     3\n",
       "141.0     2\n",
       "121.0     2\n",
       "122.5     2\n",
       "125.0     2\n",
       "124.0     2\n",
       "140.5     2\n",
       "142.0     1\n",
       "121.5     1\n",
       "122.0     1\n",
       "141.5     1\n",
       "126.0     1\n",
       "143.0     1\n",
       "119.0     1\n",
       "142.5     1\n",
       "144.0     1\n",
       "Name: count, dtype: int64"
      ]
     },
     "execution_count": 25,
     "metadata": {},
     "output_type": "execute_result"
    }
   ],
   "source": [
    "df_set[\"Vertical (No Step Reach)\"].value_counts()"
   ]
  },
  {
   "cell_type": "code",
   "execution_count": 27,
   "id": "6bb8655d-12fe-46ea-a1f8-fc95f374082a",
   "metadata": {},
   "outputs": [],
   "source": [
    "df_set[\"Vertical (No Step Reach)\"] = imputer_mean.fit_transform(np.array(df_set[\"Vertical (No Step Reach)\"]).reshape(-1,1))"
   ]
  },
  {
   "cell_type": "markdown",
   "id": "cc0c9be8-64ea-4aa5-9577-6a8b03b864c4",
   "metadata": {},
   "source": [
    "Vertical (No step) Column"
   ]
  },
  {
   "cell_type": "code",
   "execution_count": 28,
   "id": "c82bac3f-a440-4007-8783-afdae2a347bd",
   "metadata": {},
   "outputs": [],
   "source": [
    "df_set[\"Vertical (No Step)\"] = imputer_mean.fit_transform(np.array(df_set[\"Vertical (No Step)\"]).reshape(-1,1))"
   ]
  },
  {
   "cell_type": "markdown",
   "id": "7d7b5ede-7c00-49f3-8889-0e049f3d70d0",
   "metadata": {},
   "source": [
    "Weight and Body Fat Column"
   ]
  },
  {
   "cell_type": "code",
   "execution_count": 29,
   "id": "bc327f5d-9ac1-4e9f-940e-d2343ebf0bb7",
   "metadata": {},
   "outputs": [],
   "source": [
    "df_set[\"Weight\"] = imputer_mean.fit_transform(np.array(df_set[\"Weight\"]).reshape(-1,1))\n",
    "df_set[\"Body Fat\"] = imputer_mean.fit_transform(np.array(df_set[\"Body Fat\"]).reshape(-1,1))"
   ]
  },
  {
   "cell_type": "markdown",
   "id": "3ca72056-25a7-4f32-bfa3-709a190e7a32",
   "metadata": {},
   "source": [
    "Bench Column"
   ]
  },
  {
   "cell_type": "code",
   "execution_count": 30,
   "id": "37f391a8-b912-4226-8def-76ddf8d69bd3",
   "metadata": {},
   "outputs": [
    {
     "data": {
      "text/plain": [
       "count    149.000000\n",
       "mean       9.463087\n",
       "std        4.728470\n",
       "min        1.000000\n",
       "25%        6.000000\n",
       "50%        9.000000\n",
       "75%       13.000000\n",
       "max       21.000000\n",
       "Name: Bench, dtype: float64"
      ]
     },
     "execution_count": 30,
     "metadata": {},
     "output_type": "execute_result"
    }
   ],
   "source": [
    "df_set[\"Bench\"].describe()"
   ]
  },
  {
   "cell_type": "code",
   "execution_count": 31,
   "id": "3795f808-7ff5-4a53-88a5-1030e5f25060",
   "metadata": {},
   "outputs": [],
   "source": [
    "#dropping this column because it has more that 50% null values\n",
    "df_set.drop(columns = [\"Bench\"], inplace = True)"
   ]
  },
  {
   "cell_type": "markdown",
   "id": "821be883-14bd-46fa-b9f9-ec85e150cb58",
   "metadata": {},
   "source": [
    "Agility and Sprint"
   ]
  },
  {
   "cell_type": "code",
   "execution_count": 32,
   "id": "01f8558c-a646-4765-b3f7-e1c5d398b7a7",
   "metadata": {},
   "outputs": [
    {
     "data": {
      "text/plain": [
       "count    254.000000\n",
       "mean      11.293307\n",
       "std        0.547450\n",
       "min       10.190000\n",
       "25%       10.870000\n",
       "50%       11.245000\n",
       "75%       11.617500\n",
       "max       12.940000\n",
       "Name: Agility, dtype: float64"
      ]
     },
     "execution_count": 32,
     "metadata": {},
     "output_type": "execute_result"
    }
   ],
   "source": [
    "df_set[\"Agility\"].describe()"
   ]
  },
  {
   "cell_type": "code",
   "execution_count": 33,
   "id": "72dd57e2-5d82-4165-889d-601a6417ba5c",
   "metadata": {},
   "outputs": [],
   "source": [
    "#using mean\n",
    "df_set[\"Agility\"] = imputer_mean.fit_transform(np.array(df_set[\"Agility\"]).reshape(-1,1))"
   ]
  },
  {
   "cell_type": "code",
   "execution_count": 34,
   "id": "0fcb8fa7-9990-488c-942d-72946ebf15ea",
   "metadata": {},
   "outputs": [
    {
     "data": {
      "text/plain": [
       "count    253.000000\n",
       "mean       3.322292\n",
       "std        0.126877\n",
       "min        3.020000\n",
       "25%        3.240000\n",
       "50%        3.300000\n",
       "75%        3.400000\n",
       "max        3.810000\n",
       "Name: Sprint, dtype: float64"
      ]
     },
     "execution_count": 34,
     "metadata": {},
     "output_type": "execute_result"
    }
   ],
   "source": [
    "df_set[\"Sprint\"].describe()"
   ]
  },
  {
   "cell_type": "code",
   "execution_count": 35,
   "id": "3acdd58f-e4d5-490e-9fee-94036bdf66a3",
   "metadata": {},
   "outputs": [],
   "source": [
    "#using mean\n",
    "df_set[\"Sprint\"] = imputer_mean.fit_transform(np.array(df_set[\"Sprint\"]).reshape(-1,1))"
   ]
  },
  {
   "cell_type": "code",
   "execution_count": 36,
   "id": "47a5a0f6-58b2-4d7b-ab1f-5e1a13a234bb",
   "metadata": {},
   "outputs": [
    {
     "data": {
      "text/html": [
       "<div>\n",
       "<style scoped>\n",
       "    .dataframe tbody tr th:only-of-type {\n",
       "        vertical-align: middle;\n",
       "    }\n",
       "\n",
       "    .dataframe tbody tr th {\n",
       "        vertical-align: top;\n",
       "    }\n",
       "\n",
       "    .dataframe thead th {\n",
       "        text-align: right;\n",
       "    }\n",
       "</style>\n",
       "<table border=\"1\" class=\"dataframe\">\n",
       "  <thead>\n",
       "    <tr style=\"text-align: right;\">\n",
       "      <th></th>\n",
       "      <th>Col_1</th>\n",
       "      <th>Player</th>\n",
       "      <th>Year</th>\n",
       "      <th>Draft pick</th>\n",
       "      <th>Height (No Shoes)</th>\n",
       "      <th>Height (With Shoes)</th>\n",
       "      <th>Wingspan</th>\n",
       "      <th>Standing reach</th>\n",
       "      <th>Vertical (Max)</th>\n",
       "      <th>Vertical (Max Reach)</th>\n",
       "      <th>Vertical (No Step)</th>\n",
       "      <th>Vertical (No Step Reach)</th>\n",
       "      <th>Weight</th>\n",
       "      <th>Body Fat</th>\n",
       "      <th>Hand (Length)</th>\n",
       "      <th>Hand (Width)</th>\n",
       "      <th>Agility</th>\n",
       "      <th>Sprint</th>\n",
       "    </tr>\n",
       "  </thead>\n",
       "  <tbody>\n",
       "    <tr>\n",
       "      <th>0</th>\n",
       "      <td>0</td>\n",
       "      <td>Andre Drummond</td>\n",
       "      <td>2012</td>\n",
       "      <td>9</td>\n",
       "      <td>81.75</td>\n",
       "      <td>83.75</td>\n",
       "      <td>90.25</td>\n",
       "      <td>109.5</td>\n",
       "      <td>33.5</td>\n",
       "      <td>143.000000</td>\n",
       "      <td>31.500000</td>\n",
       "      <td>141.000000</td>\n",
       "      <td>279.0</td>\n",
       "      <td>7.5</td>\n",
       "      <td>9.50</td>\n",
       "      <td>9.50</td>\n",
       "      <td>10.830000</td>\n",
       "      <td>3.390000</td>\n",
       "    </tr>\n",
       "    <tr>\n",
       "      <th>1</th>\n",
       "      <td>1</td>\n",
       "      <td>Andrew Nicholson</td>\n",
       "      <td>2012</td>\n",
       "      <td>19</td>\n",
       "      <td>80.50</td>\n",
       "      <td>81.50</td>\n",
       "      <td>88.00</td>\n",
       "      <td>107.0</td>\n",
       "      <td>30.5</td>\n",
       "      <td>137.500000</td>\n",
       "      <td>28.500000</td>\n",
       "      <td>135.500000</td>\n",
       "      <td>234.0</td>\n",
       "      <td>7.6</td>\n",
       "      <td>10.00</td>\n",
       "      <td>10.75</td>\n",
       "      <td>11.890000</td>\n",
       "      <td>3.670000</td>\n",
       "    </tr>\n",
       "    <tr>\n",
       "      <th>2</th>\n",
       "      <td>2</td>\n",
       "      <td>Anthony Davis</td>\n",
       "      <td>2012</td>\n",
       "      <td>1</td>\n",
       "      <td>81.25</td>\n",
       "      <td>82.50</td>\n",
       "      <td>89.50</td>\n",
       "      <td>108.0</td>\n",
       "      <td>35.5</td>\n",
       "      <td>138.093385</td>\n",
       "      <td>30.127907</td>\n",
       "      <td>132.614341</td>\n",
       "      <td>222.0</td>\n",
       "      <td>7.9</td>\n",
       "      <td>9.00</td>\n",
       "      <td>8.50</td>\n",
       "      <td>11.293307</td>\n",
       "      <td>3.322292</td>\n",
       "    </tr>\n",
       "    <tr>\n",
       "      <th>3</th>\n",
       "      <td>3</td>\n",
       "      <td>Arnett Moultrie</td>\n",
       "      <td>2012</td>\n",
       "      <td>27</td>\n",
       "      <td>81.50</td>\n",
       "      <td>82.75</td>\n",
       "      <td>86.25</td>\n",
       "      <td>106.5</td>\n",
       "      <td>37.5</td>\n",
       "      <td>144.000000</td>\n",
       "      <td>33.500000</td>\n",
       "      <td>140.000000</td>\n",
       "      <td>233.0</td>\n",
       "      <td>7.7</td>\n",
       "      <td>9.25</td>\n",
       "      <td>9.25</td>\n",
       "      <td>11.320000</td>\n",
       "      <td>3.220000</td>\n",
       "    </tr>\n",
       "    <tr>\n",
       "      <th>4</th>\n",
       "      <td>4</td>\n",
       "      <td>Austin Rivers</td>\n",
       "      <td>2012</td>\n",
       "      <td>10</td>\n",
       "      <td>75.50</td>\n",
       "      <td>77.00</td>\n",
       "      <td>79.25</td>\n",
       "      <td>96.5</td>\n",
       "      <td>37.5</td>\n",
       "      <td>134.000000</td>\n",
       "      <td>32.500000</td>\n",
       "      <td>129.000000</td>\n",
       "      <td>203.0</td>\n",
       "      <td>6.2</td>\n",
       "      <td>8.50</td>\n",
       "      <td>10.00</td>\n",
       "      <td>11.540000</td>\n",
       "      <td>3.320000</td>\n",
       "    </tr>\n",
       "  </tbody>\n",
       "</table>\n",
       "</div>"
      ],
      "text/plain": [
       "   Col_1            Player  Year  Draft pick  Height (No Shoes)  \\\n",
       "0      0    Andre Drummond  2012           9              81.75   \n",
       "1      1  Andrew Nicholson  2012          19              80.50   \n",
       "2      2     Anthony Davis  2012           1              81.25   \n",
       "3      3   Arnett Moultrie  2012          27              81.50   \n",
       "4      4     Austin Rivers  2012          10              75.50   \n",
       "\n",
       "   Height (With Shoes)  Wingspan  Standing reach  Vertical (Max)  \\\n",
       "0                83.75     90.25           109.5            33.5   \n",
       "1                81.50     88.00           107.0            30.5   \n",
       "2                82.50     89.50           108.0            35.5   \n",
       "3                82.75     86.25           106.5            37.5   \n",
       "4                77.00     79.25            96.5            37.5   \n",
       "\n",
       "   Vertical (Max Reach)  Vertical (No Step)  Vertical (No Step Reach)  Weight  \\\n",
       "0            143.000000           31.500000                141.000000   279.0   \n",
       "1            137.500000           28.500000                135.500000   234.0   \n",
       "2            138.093385           30.127907                132.614341   222.0   \n",
       "3            144.000000           33.500000                140.000000   233.0   \n",
       "4            134.000000           32.500000                129.000000   203.0   \n",
       "\n",
       "   Body Fat  Hand (Length)  Hand (Width)    Agility    Sprint  \n",
       "0       7.5           9.50          9.50  10.830000  3.390000  \n",
       "1       7.6          10.00         10.75  11.890000  3.670000  \n",
       "2       7.9           9.00          8.50  11.293307  3.322292  \n",
       "3       7.7           9.25          9.25  11.320000  3.220000  \n",
       "4       6.2           8.50         10.00  11.540000  3.320000  "
      ]
     },
     "execution_count": 36,
     "metadata": {},
     "output_type": "execute_result"
    }
   ],
   "source": [
    "df_set.head()"
   ]
  },
  {
   "cell_type": "code",
   "execution_count": 37,
   "id": "b8c39f2c-125a-45f8-b72e-0784d832eff0",
   "metadata": {},
   "outputs": [],
   "source": [
    "df_set.to_csv('C:/Users/Dell/OneDrive/Desktop/Komal/Internships/VerveBridge/NBA Draft Dataset All Years Combine.csv', index = False)"
   ]
  },
  {
   "cell_type": "code",
   "execution_count": null,
   "id": "c74796ad-cbdb-4c31-8c04-2378259a7d22",
   "metadata": {},
   "outputs": [],
   "source": []
  }
 ],
 "metadata": {
  "kernelspec": {
   "display_name": "Python 3 (ipykernel)",
   "language": "python",
   "name": "python3"
  },
  "language_info": {
   "codemirror_mode": {
    "name": "ipython",
    "version": 3
   },
   "file_extension": ".py",
   "mimetype": "text/x-python",
   "name": "python",
   "nbconvert_exporter": "python",
   "pygments_lexer": "ipython3",
   "version": "3.9.1"
  }
 },
 "nbformat": 4,
 "nbformat_minor": 5
}
